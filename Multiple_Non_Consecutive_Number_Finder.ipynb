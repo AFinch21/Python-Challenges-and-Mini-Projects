{
  "nbformat": 4,
  "nbformat_minor": 0,
  "metadata": {
    "anaconda-cloud": {},
    "kernelspec": {
      "display_name": "Python [conda root]",
      "language": "python",
      "name": "conda-root-py"
    },
    "language_info": {
      "codemirror_mode": {
        "name": "ipython",
        "version": 3
      },
      "file_extension": ".py",
      "mimetype": "text/x-python",
      "name": "python",
      "nbconvert_exporter": "python",
      "pygments_lexer": "ipython3",
      "version": "3.5.2"
    },
    "colab": {
      "name": "Multiple Non-Consecutive Number Finder.ipynb",
      "provenance": [],
      "collapsed_sections": []
    }
  },
  "cells": [
    {
      "cell_type": "code",
      "metadata": {
        "id": "JCjRWINqIHFf",
        "outputId": "5eed4c3f-01b7-4eb6-a8c6-3611c74d179c"
      },
      "source": [
        "nonconseclist = []\n",
        "\n",
        "def consecFinder(lst):\n",
        "    firstnum = 0\n",
        "    secondnum = lst[0]\n",
        "    trackernum = 0\n",
        "    for x in lst:\n",
        "        firstnum = x\n",
        "        trackernum = firstnum - secondnum\n",
        "        if trackernum >= 1:\n",
        "            tempdict = {}\n",
        "            tempdict.update({'n' : x})\n",
        "            tempdict.update({'i':lst.index(x)})\n",
        "            nonconseclist.append(tempdict)\n",
        "            secondnum = lst[lst.index(x)]\n",
        "        secondnum += 1\n",
        "\n",
        "lst = [1,2,3,5,6,8,9,10]\n",
        "\n",
        "consecFinder(lst)\n",
        "nonconseclist\n",
        "\n"
      ],
      "execution_count": null,
      "outputs": [
        {
          "output_type": "execute_result",
          "data": {
            "text/plain": [
              "[{'i': 3, 'n': 5}, {'i': 5, 'n': 8}]"
            ]
          },
          "metadata": {
            "tags": []
          },
          "execution_count": 8
        }
      ]
    },
    {
      "cell_type": "code",
      "metadata": {
        "collapsed": true,
        "id": "dyCY6WoaIHFl"
      },
      "source": [
        ""
      ],
      "execution_count": null,
      "outputs": []
    },
    {
      "cell_type": "code",
      "metadata": {
        "collapsed": true,
        "id": "h94V8LlbIHFl"
      },
      "source": [
        ""
      ],
      "execution_count": null,
      "outputs": []
    },
    {
      "cell_type": "code",
      "metadata": {
        "collapsed": true,
        "id": "8gVQirZuIHFm"
      },
      "source": [
        ""
      ],
      "execution_count": null,
      "outputs": []
    },
    {
      "cell_type": "code",
      "metadata": {
        "id": "MqpoQJ1sIHFm",
        "outputId": "16a97201-9f62-4668-ec71-afed7f62849e"
      },
      "source": [
        ""
      ],
      "execution_count": null,
      "outputs": [
        {
          "output_type": "execute_result",
          "data": {
            "text/plain": [
              "[1, 2]"
            ]
          },
          "metadata": {
            "tags": []
          },
          "execution_count": 27
        }
      ]
    }
  ]
}